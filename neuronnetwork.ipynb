{
  "nbformat": 4,
  "nbformat_minor": 0,
  "metadata": {
    "colab": {
      "provenance": [],
      "collapsed_sections": []
    },
    "kernelspec": {
      "name": "python3",
      "display_name": "Python 3"
    },
    "language_info": {
      "name": "python"
    }
  },
  "cells": [
    {
      "cell_type": "code",
      "execution_count": 2,
      "metadata": {
        "id": "GRGlZu6SDIk_"
      },
      "outputs": [],
      "source": [
        "from sklearn import tree\n",
        "from matplotlib import pyplot as plt\n",
        "import numpy as np\n",
        "import pandas as pd\n",
        "import keras\n",
        "from keras.datasets import mnist \n",
        "from keras.models import Sequential\n",
        "from keras.layers import Dense\n",
        "from keras.optimizers import SGD\n",
        "from keras import backend as k"
      ]
    },
    {
      "cell_type": "code",
      "source": [
        "batch_size = 250\n",
        "num_classes = 10\n",
        "epochs = 15"
      ],
      "metadata": {
        "id": "EOQ8JLKnGPjK"
      },
      "execution_count": 3,
      "outputs": []
    },
    {
      "cell_type": "code",
      "source": [
        "img_rows, img_cols = 28,28"
      ],
      "metadata": {
        "id": "Wgp03KSYGShI"
      },
      "execution_count": 4,
      "outputs": []
    },
    {
      "cell_type": "code",
      "source": [
        "(x_train, y_train), (x_test, y_test) = mnist.load_data()"
      ],
      "metadata": {
        "colab": {
          "base_uri": "https://localhost:8080/"
        },
        "id": "mlvLA8wLGveI",
        "outputId": "79038963-c6db-468e-95a1-dad68b0ccf78"
      },
      "execution_count": 6,
      "outputs": [
        {
          "output_type": "stream",
          "name": "stdout",
          "text": [
            "Downloading data from https://storage.googleapis.com/tensorflow/tf-keras-datasets/mnist.npz\n",
            "11490434/11490434 [==============================] - 0s 0us/step\n"
          ]
        }
      ]
    },
    {
      "cell_type": "code",
      "source": [
        "sample = 10\n",
        "image = x_train[sample]\n",
        "fig = plt.figure\n",
        "plt.imshow(image, cmap='gray')\n",
        "plt.show()"
      ],
      "metadata": {
        "colab": {
          "base_uri": "https://localhost:8080/",
          "height": 265
        },
        "id": "XxkIFjeHHDEn",
        "outputId": "219d10f7-f496-424b-ded6-1cf00dac3b89"
      },
      "execution_count": 7,
      "outputs": [
        {
          "output_type": "display_data",
          "data": {
            "text/plain": [
              "<Figure size 432x288 with 1 Axes>"
            ],
            "image/png": "[encoded data removed]"
          },
          "metadata": {
            "needs_background": "light"
          }
        }
      ]
    },
    {
      "cell_type": "code",
      "source": [
        "x_train[0].shape, y_test[0]"
      ],
      "metadata": {
        "colab": {
          "base_uri": "https://localhost:8080/"
        },
        "id": "LAxDDvfuHlfg",
        "outputId": "6ebe1c41-d2a7-4fc7-baf0-dd8b8e56713d"
      },
      "execution_count": 8,
      "outputs": [
        {
          "output_type": "execute_result",
          "data": {
            "text/plain": [
              "((28, 28), 7)"
            ]
          },
          "metadata": {},
          "execution_count": 8
        }
      ]
    },
    {
      "cell_type": "code",
      "source": [
        "x_train = x_train.reshape(-1, 784)\n",
        "x_test = x_test.reshape(-1, 784)\n",
        "\n",
        "x_train = x_train.astype('float32')\n",
        "x_test = x_test.astype('float32')\n",
        "\n",
        "x_train /= 255\n",
        "x_test /= 255\n",
        "print(x_train.shape[0], 'train samples')\n",
        "print(x_test.shape[0], 'test samples')\n"
      ],
      "metadata": {
        "colab": {
          "base_uri": "https://localhost:8080/"
        },
        "id": "KUzH2n8cHuCu",
        "outputId": "5fe3168c-ba05-4363-8e11-5964d7f9637d"
      },
      "execution_count": 9,
      "outputs": [
        {
          "output_type": "stream",
          "name": "stdout",
          "text": [
            "60000 train samples\n",
            "10000 test samples\n"
          ]
        }
      ]
    },
    {
      "cell_type": "code",
      "source": [
        "print(y_train[0])\n",
        "y_train = keras.utils.to_categorical(y_train, num_classes)\n",
        "y_test = keras.utils.to_categorical(y_test, num_classes)\n",
        "print(y_train[0])"
      ],
      "metadata": {
        "colab": {
          "base_uri": "https://localhost:8080/"
        },
        "id": "pHKdkoHMJceX",
        "outputId": "6776c768-1b8e-4b8f-c39e-98c453f9e967"
      },
      "execution_count": 10,
      "outputs": [
        {
          "output_type": "stream",
          "name": "stdout",
          "text": [
            "5\n",
            "[0. 0. 0. 0. 0. 1. 0. 0. 0. 0.]\n"
          ]
        }
      ]
    },
    {
      "cell_type": "code",
      "source": [
        "model = Sequential()\n",
        "\n",
        "model.add(Dense(512, activation='relu', input_shape=(784,)))\n",
        "model.add(Dense(32, activation='relu'))\n",
        "model.add(Dense(num_classes, activation='softmax'))\n",
        "\n",
        "model.summary()"
      ],
      "metadata": {
        "colab": {
          "base_uri": "https://localhost:8080/"
        },
        "id": "yrrdSAOkJ5so",
        "outputId": "945e22b9-c120-4c96-a975-c52c4962bfbb"
      },
      "execution_count": 12,
      "outputs": [
        {
          "output_type": "stream",
          "name": "stdout",
          "text": [
            "Model: \"sequential_1\"\n",
            "_________________________________________________________________\n",
            " Layer (type)                Output Shape              Param #   \n",
            "=================================================================\n",
            " dense_3 (Dense)             (None, 512)               401920    \n",
            "                                                                 \n",
            " dense_4 (Dense)             (None, 32)                16416     \n",
            "                                                                 \n",
            " dense_5 (Dense)             (None, 10)                330       \n",
            "                                                                 \n",
            "=================================================================\n",
            "Total params: 418,666\n",
            "Trainable params: 418,666\n",
            "Non-trainable params: 0\n",
            "_________________________________________________________________\n"
          ]
        }
      ]
    },
    {
      "cell_type": "code",
      "source": [
        "model.compile(loss = 'categorical_crossentropy',\n",
        "              optimizer=SGD(), # adam, .... gradient descent\n",
        "              metrics=['accuracy'])"
      ],
      "metadata": {
        "id": "sJ6LGovdLdr4"
      },
      "execution_count": 21,
      "outputs": []
    },
    {
      "cell_type": "code",
      "source": [
        "H = model.fit(x_train, y_train,\n",
        "              batch_size = batch_size,\n",
        "              epochs = epochs,\n",
        "              verbose = 1,\n",
        "              validation_data = (x_test, y_test))"
      ],
      "metadata": {
        "colab": {
          "base_uri": "https://localhost:8080/"
        },
        "id": "Zwi8XB-qM_VN",
        "outputId": "9c2a2f94-19a1-4ff5-df01-85e558158141"
      },
      "execution_count": 22,
      "outputs": [
        {
          "output_type": "stream",
          "name": "stdout",
          "text": [
            "Epoch 1/15\n",
            "240/240 [==============================] - 4s 14ms/step - loss: 1.5546 - accuracy: 0.5836 - val_loss: 0.9220 - val_accuracy: 0.8061\n",
            "Epoch 2/15\n",
            "240/240 [==============================] - 3s 13ms/step - loss: 0.7179 - accuracy: 0.8322 - val_loss: 0.5529 - val_accuracy: 0.8677\n",
            "Epoch 3/15\n",
            "240/240 [==============================] - 3s 13ms/step - loss: 0.5105 - accuracy: 0.8697 - val_loss: 0.4386 - val_accuracy: 0.8884\n",
            "Epoch 4/15\n",
            "240/240 [==============================] - 3s 13ms/step - loss: 0.4273 - accuracy: 0.8868 - val_loss: 0.3801 - val_accuracy: 0.9005\n",
            "Epoch 5/15\n",
            "240/240 [==============================] - 3s 13ms/step - loss: 0.3805 - accuracy: 0.8978 - val_loss: 0.3472 - val_accuracy: 0.9087\n",
            "Epoch 6/15\n",
            "240/240 [==============================] - 3s 13ms/step - loss: 0.3497 - accuracy: 0.9045 - val_loss: 0.3206 - val_accuracy: 0.9125\n",
            "Epoch 7/15\n",
            "240/240 [==============================] - 3s 13ms/step - loss: 0.3273 - accuracy: 0.9099 - val_loss: 0.3029 - val_accuracy: 0.9171\n",
            "Epoch 8/15\n",
            "240/240 [==============================] - 3s 13ms/step - loss: 0.3097 - accuracy: 0.9143 - val_loss: 0.2889 - val_accuracy: 0.9207\n",
            "Epoch 9/15\n",
            "240/240 [==============================] - 3s 13ms/step - loss: 0.2952 - accuracy: 0.9180 - val_loss: 0.2773 - val_accuracy: 0.9224\n",
            "Epoch 10/15\n",
            "240/240 [==============================] - 3s 13ms/step - loss: 0.2831 - accuracy: 0.9211 - val_loss: 0.2662 - val_accuracy: 0.9264\n",
            "Epoch 11/15\n",
            "240/240 [==============================] - 3s 13ms/step - loss: 0.2723 - accuracy: 0.9240 - val_loss: 0.2581 - val_accuracy: 0.9280\n",
            "Epoch 12/15\n",
            "240/240 [==============================] - 3s 13ms/step - loss: 0.2627 - accuracy: 0.9266 - val_loss: 0.2503 - val_accuracy: 0.9313\n",
            "Epoch 13/15\n",
            "240/240 [==============================] - 3s 13ms/step - loss: 0.2541 - accuracy: 0.9292 - val_loss: 0.2431 - val_accuracy: 0.9328\n",
            "Epoch 14/15\n",
            "240/240 [==============================] - 3s 13ms/step - loss: 0.2461 - accuracy: 0.9317 - val_loss: 0.2362 - val_accuracy: 0.9350\n",
            "Epoch 15/15\n",
            "240/240 [==============================] - 3s 13ms/step - loss: 0.2387 - accuracy: 0.9338 - val_loss: 0.2292 - val_accuracy: 0.9374\n"
          ]
        }
      ]
    },
    {
      "cell_type": "code",
      "source": [
        "score = model.evaluate(x_test, y_test, verbose=0)\n",
        "print('Test loss: ', score[0])\n",
        "print('Test accuracy: ', score[1])"
      ],
      "metadata": {
        "colab": {
          "base_uri": "https://localhost:8080/"
        },
        "id": "3-YwatqXdaRS",
        "outputId": "1f1a1ef3-0207-4ab8-e1b6-4254359baf14"
      },
      "execution_count": 24,
      "outputs": [
        {
          "output_type": "stream",
          "name": "stdout",
          "text": [
            "Test loss:  0.22921977937221527\n",
            "Test accuracy:  0.9373999834060669\n"
          ]
        }
      ]
    },
    {
      "cell_type": "code",
      "source": [
        "plt.plot(H.history['loss'])\n",
        "plt.show()\n",
        "plt.plot(H.history['val_accuracy'])\n",
        "plt.show()"
      ],
      "metadata": {
        "colab": {
          "base_uri": "https://localhost:8080/",
          "height": 514
        },
        "id": "x6CyBLmsd6UB",
        "outputId": "879171f8-d901-4c56-99f7-5c4bd0f814e7"
      },
      "execution_count": 25,
      "outputs": [
        {
          "output_type": "display_data",
          "data": {
            "text/plain": [
              "<Figure size 432x288 with 1 Axes>"
            ],
            "image/png": "[encoded data removed]"
          },
          "metadata": {
            "needs_background": "light"
          }
        },
        {
          "output_type": "display_data",
          "data": {
            "text/plain": [
              "<Figure size 432x288 with 1 Axes>"
            ],
            "image/png": "[encoded data removed]"
          },
          "metadata": {
            "needs_background": "light"
          }
        }
      ]
    }
  ]
}